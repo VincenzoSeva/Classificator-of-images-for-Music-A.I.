{
  "cells": [
    {
      "cell_type": "code",
      "execution_count": 1,
      "metadata": {
        "id": "ZSGhHIfpWcSE"
      },
      "outputs": [],
      "source": [
        "import torchvision\n",
        "import os\n",
        "import shutil\n",
        "import cv2\n",
        "import math\n",
        "import random\n",
        "from PIL import Image\n",
        "import glob\n",
        "import time, copy\n",
        "import pandas as pd\n",
        "import matplotlib.pyplot as plt\n",
        "import seaborn as sns\n",
        "import numpy as np\n",
        "import torch\n",
        "import torch.nn as nn\n",
        "import torch.nn.functional as F\n",
        "from torch.optim import lr_scheduler, Adam, SGD\n",
        "from torch.utils.data import Dataset, DataLoader\n",
        "import torchvision\n",
        "from torchvision.models import ResNet152_Weights, ResNet18_Weights\n",
        "from torchvision import datasets, models, transforms\n",
        "from sklearn.metrics import accuracy_score, precision_score, recall_score, f1_score, classification_report, confusion_matrix, plot_confusion_matrix, ConfusionMatrixDisplay"
      ]
    },
    {
      "cell_type": "code",
      "execution_count": 15,
      "metadata": {
        "id": "oTlgT57WCnsR"
      },
      "outputs": [],
      "source": [
        "#save paths\n",
        "save_name = 'wikiart_model'\n",
        "path_graph = '/content/drive/MyDrive/resnet152/risultati/presentazione/grafici/'\n",
        "path_model = '/content/drive/MyDrive/resnet152/risultati/modelli/'\n",
        "path_pd = '/content/drive/MyDrive/resnet152/risultati/presentazione/csv/'"
      ]
    },
    {
      "cell_type": "code",
      "execution_count": 16,
      "metadata": {
        "colab": {
          "base_uri": "https://localhost:8080/"
        },
        "id": "yMBZ7pi2ZRXG",
        "outputId": "92fde991-e011-4f15-aabd-23266a07100d"
      },
      "outputs": [
        {
          "output_type": "execute_result",
          "data": {
            "text/plain": [
              "['non_spurious', 'spurious']"
            ]
          },
          "metadata": {},
          "execution_count": 16
        }
      ],
      "source": [
        "path_folder = '/content/drive/MyDrive/backups/wikiAum_resized2.0_splitted'\n",
        "\n",
        "train_folder_path = path_folder + '/train'\n",
        "test_folder_path = path_folder + '/test'\n",
        "val_folder_path = path_folder + '/val' \n",
        "\n",
        "\n",
        "train_foto_paths = [] #to store image paths in list\n",
        "test_foto_paths = [] #to store image paths in list\n",
        "val_foto_paths = [] #to store image paths in list\n",
        "classes = [] #to store class values\n",
        "\n",
        "\n",
        "# get all the paths from train_folder_path and append image paths and class to to respective lists\n",
        "\n",
        "for data_path in glob.glob(train_folder_path + '/*'):\n",
        "    classes.append(data_path.split('/')[-1]) \n",
        "    train_foto_paths.append(glob.glob(data_path + '/*'))\n",
        "\n",
        "for data_path in glob.glob(test_folder_path + '/*'):\n",
        "    test_foto_paths.append(glob.glob(data_path + '/*'))\n",
        "\n",
        "for data_path in glob.glob(val_folder_path + '/*'):\n",
        "    val_foto_paths.append(glob.glob(data_path + '/*'))\n",
        "\n",
        "classes"
      ]
    },
    {
      "cell_type": "code",
      "execution_count": 4,
      "metadata": {
        "id": "VDW2bEVYZUVP"
      },
      "outputs": [],
      "source": [
        "train_paths = train_foto_paths[0] + train_foto_paths[1]\n",
        "test_paths = test_foto_paths[0] + test_foto_paths[1]\n",
        "val_paths = val_foto_paths[0] + val_foto_paths[1]\n",
        "\n",
        "train_paths = list((np.array(train_paths).flatten()))\n",
        "test_paths = list((np.array(test_paths).flatten()))\n",
        "val_paths = list((np.array(val_paths).flatten()))\n",
        "\n",
        "\n",
        "random.shuffle(train_paths)\n",
        "random.shuffle(val_paths)\n",
        "random.shuffle(test_paths)"
      ]
    },
    {
      "cell_type": "code",
      "execution_count": 5,
      "metadata": {
        "colab": {
          "base_uri": "https://localhost:8080/"
        },
        "id": "QNdlPlHlZX33",
        "outputId": "8deec80e-1ee0-4be1-f6b4-64aa54c1af8f"
      },
      "outputs": [
        {
          "output_type": "execute_result",
          "data": {
            "text/plain": [
              "{'nature': 0, 'city': 1}"
            ]
          },
          "metadata": {},
          "execution_count": 5
        }
      ],
      "source": [
        "idx_to_class = {i:j for i, j in enumerate(classes)}\n",
        "class_to_idx = {value:key for key,value in idx_to_class.items()}\n",
        "class_to_idx"
      ]
    },
    {
      "cell_type": "code",
      "execution_count": 18,
      "metadata": {
        "id": "43Uw79MNZbkA"
      },
      "outputs": [],
      "source": [
        "train_transforms = transforms.Compose([transforms.ToTensor(),\n",
        "                                       transforms.RandomHorizontalFlip(),\n",
        "                                       transforms.RandomVerticalFlip(),\n",
        "                                       transforms.Normalize(mean=[0.485, 0.456, 0.406], std=[0.229, 0.224, 0.225]),\n",
        "                                       ])#resize if needed\n",
        "\n",
        "val_transforms = transforms.Compose([transforms.ToTensor(),\n",
        "                                     transforms.Normalize([0.485, 0.456, 0.406], \n",
        "                                                           [0.229, 0.224, 0.225])\n",
        "                                    ])#resize if needed\n",
        "\n",
        "test_transforms = transforms.Compose([transforms.ToTensor(),\n",
        "                                      transforms.Normalize([0.485, 0.456, 0.406], \n",
        "                                                          [0.229, 0.224, 0.225])\n",
        "                                      ])#resize if needed"
      ]
    },
    {
      "cell_type": "code",
      "execution_count": 19,
      "metadata": {
        "colab": {
          "base_uri": "https://localhost:8080/"
        },
        "id": "gDLbu3cEa5IS",
        "outputId": "41cfed82-3007-4b18-b773-0d698f9f6f0a"
      },
      "outputs": [
        {
          "output_type": "execute_result",
          "data": {
            "text/plain": [
              "(4222, 908, 904)"
            ]
          },
          "metadata": {},
          "execution_count": 19
        }
      ],
      "source": [
        "\n",
        "#  Define Dataset Class\n",
        "\n",
        "class Spuriedata(Dataset):\n",
        "    def __init__(self, image_paths, transform):\n",
        "        self.image_paths = image_paths\n",
        "        self.transform = transform\n",
        "        \n",
        "    def __len__(self):\n",
        "        return len(self.image_paths)\n",
        "\n",
        "    def __getitem__(self, idx):\n",
        "        image_filepath = self.image_paths[idx]\n",
        "        image = cv2.imread(image_filepath)\n",
        "        image = cv2.cvtColor(image, cv2.COLOR_BGR2RGB)\n",
        "        \n",
        "        \n",
        "        label = image_filepath.split('/')[-2]\n",
        "        label = class_to_idx[label]\n",
        "        image = self.transform(image)\n",
        "            \n",
        "        \n",
        "        return image, label\n",
        "\n",
        "# Create Dataset\n",
        "\n",
        "train_dataset = Spuriedata(train_paths,train_transforms)\n",
        "val_dataset = Spuriedata(val_paths,val_transforms) \n",
        "test_dataset = Spuriedata(test_paths,test_transforms)\n",
        "\n",
        "len(train_dataset),len(test_dataset),len(val_dataset)"
      ]
    },
    {
      "cell_type": "code",
      "execution_count": 20,
      "metadata": {
        "id": "S6HmfMGGZjA_"
      },
      "outputs": [],
      "source": [
        "train_loader = DataLoader(\n",
        "    train_dataset, batch_size=32, shuffle=True, num_workers=2)\n",
        "\n",
        "val_loader = DataLoader(\n",
        "    val_dataset, batch_size=64, shuffle=False, num_workers=2)\n",
        "\n",
        "test_loader = DataLoader(\n",
        "    test_dataset, batch_size=64, shuffle=False, num_workers=2)"
      ]
    },
    {
      "cell_type": "code",
      "execution_count": 21,
      "metadata": {
        "id": "6WvCc1ordyKB"
      },
      "outputs": [],
      "source": [
        "model = torchvision.models.resnet152(weights=ResNet152_Weights.DEFAULT)\n",
        "for param in model.parameters():\n",
        "    param.requires_grad = True #the net is unfrozen\n",
        "num_ftrs = model.fc.in_features\n",
        "model.fc = nn.Sequential(nn.Linear(2048, 1024),\n",
        "                        nn.ReLU(),\n",
        "                        nn.Dropout(0.4),\n",
        "                        nn.Linear(1024, 512),\n",
        "                        nn.ReLU(),\n",
        "                        nn.Dropout(0.4),\n",
        "                        nn.Linear(512, 128),\n",
        "                        nn.ReLU(),\n",
        "                        nn.Dropout(0.4),\n",
        "                        nn.Linear(128, 64),\n",
        "                        nn.ReLU(),\n",
        "                        nn.Linear(64, 2)\n",
        "                        )\n",
        "\n"
      ]
    },
    {
      "cell_type": "code",
      "execution_count": 22,
      "metadata": {
        "colab": {
          "base_uri": "https://localhost:8080/"
        },
        "id": "ycUwRcRGZlyH",
        "outputId": "fee81808-01aa-4fe6-87bb-6682e9e46f1f"
      },
      "outputs": [
        {
          "output_type": "execute_result",
          "data": {
            "text/plain": [
              "device(type='cuda', index=0)"
            ]
          },
          "metadata": {},
          "execution_count": 22
        }
      ],
      "source": [
        "#setting hyperparameters\n",
        "optimizer = Adam(model.parameters(), lr=0.001) \n",
        "scheduler = lr_scheduler.StepLR(optimizer, step_size=5, gamma=0.1)\n",
        "criterion = nn.CrossEntropyLoss()\n",
        "#moving to gpu if possible\n",
        "device = torch.device(\"cuda:0\" if torch.cuda.is_available() else \"cpu\")\n",
        "model=model.to(device)\n",
        "device"
      ]
    },
    {
      "cell_type": "code",
      "execution_count": null,
      "metadata": {
        "id": "cPWD8aMFZong"
      },
      "outputs": [],
      "source": [
        "num_epochs = 30   \n",
        "start_time = time.time() \n",
        "t_losses   = []\n",
        "v_losses   = []\n",
        "t_acc = []\n",
        "v_acc = []\n",
        "best_acc = 0\n",
        "best_loss = math.inf\n",
        "for epoch in range(num_epochs): \n",
        "    \n",
        "    print(\"Epoch {} running\".format(epoch)) \n",
        "    \"\"\" Training Phase \"\"\"\n",
        "    \n",
        "    model.train()    #training phase\n",
        "    running_loss = 0.   \n",
        "    running_corrects = 0 \n",
        "\n",
        "    for i, (images, labels) in enumerate(train_loader):\n",
        "        images = images.to(device)\n",
        "        labels = labels.to(device) \n",
        "        optimizer.zero_grad()\n",
        "        outputs = model(images)\n",
        "        _, preds = torch.max(outputs, 1)\n",
        "        loss = criterion(outputs, labels)\n",
        "        loss.backward()\n",
        "        optimizer.step()\n",
        "        \n",
        "        running_loss += loss.item() * images.size(0)\n",
        "        running_corrects += torch.sum(preds == labels.data)\n",
        "\n",
        "    scheduler.step()    \n",
        "    epoch_loss = running_loss / len(train_dataset)\n",
        "    t_losses.append(epoch_loss)\n",
        "    epoch_acc = running_corrects / len(train_dataset) * 100.\n",
        "    print('[Train #{}] Loss: {:.4f} Acc: {:.4f}% Time: {:.4f}m'.format(epoch, epoch_loss, epoch_acc, (time.time() -start_time)//60))\n",
        "    t_acc.append(epoch_acc)\n",
        "    \n",
        "    #eval phase\n",
        "    model.eval()\n",
        "    with torch.no_grad():\n",
        "        running_loss = 0.\n",
        "        running_corrects = 0\n",
        "\n",
        "        for images, labels in val_loader:\n",
        "            images = images.to(device)\n",
        "            labels = labels.to(device)\n",
        "            outputs = model(images)\n",
        "            _, preds = torch.max(outputs, 1)\n",
        "            loss = criterion(outputs, labels)\n",
        "            running_loss += loss.item() * images.size(0)\n",
        "            running_corrects += torch.sum(preds == labels.data)\n",
        "\n",
        "        epoch_loss = running_loss / len(val_dataset)\n",
        "        v_losses.append(epoch_loss)\n",
        "        epoch_acc = running_corrects / len(val_dataset) * 100.\n",
        "        print('[Val #{}] Loss: {:.4f} Acc: {:.4f}% Time: {:.4f}m'.format(epoch, epoch_loss, epoch_acc, (time.time()- start_time)//60))\n",
        "        v_acc.append(epoch_acc)\n",
        "        \n",
        "        if epoch_acc > best_acc:\n",
        "                best_acc = epoch_acc\n",
        "                best_model_wts = copy.deepcopy(model.state_dict())\n",
        "                torch.save(model, path_model + save_name + '_acc.pth')\n",
        "                torch.save(model, save_name + '_acc.pth')"
      ]
    },
    {
      "cell_type": "code",
      "execution_count": 12,
      "metadata": {
        "colab": {
          "base_uri": "https://localhost:8080/",
          "height": 295
        },
        "id": "IK-b5GMZZr6o",
        "outputId": "64042f32-adf9-410c-85b1-a03de78a986e"
      },
      "outputs": [
        {
          "output_type": "display_data",
          "data": {
            "text/plain": [
              "<Figure size 432x288 with 1 Axes>"
            ],
            "image/png": "[encoded data removed]"
          },
          "metadata": {
            "needs_background": "light"
          }
        }
      ],
      "source": [
        "#plotting results\n",
        "plt.figure(figsize=(15,10))\n",
        "plt.plot(t_losses, 'b-x', label='train_loss')\n",
        "plt.plot(v_losses, 'r-x', label='validation_loss')\n",
        "plt.xlabel('epoch')\n",
        "plt.ylabel('loss')\n",
        "plt.grid(axis='y')\n",
        "plt.legend()\n",
        "plt.ylim([0, .8])\n",
        "plt.title('Loss vs. No. of epochs')\n",
        "plt.savefig( path_graph + save_name + '.png')"
      ]
    },
    {
      "cell_type": "code",
      "execution_count": 23,
      "metadata": {
        "id": "HgGOlr2KM5rs"
      },
      "outputs": [],
      "source": [
        "#saving the loss plot \n",
        "def nump(lista):\n",
        "  a = [n.cpu() for n in lista]\n",
        "  b = [n.numpy() for n in a]\n",
        "  c = [float('{:.5f}'.format(n)) for n in b]\n",
        "  return c\n",
        "\n",
        "tn_acc = nump(t_acc)\n",
        "vn_acc = nump(v_acc)\n",
        "\n",
        "df = pd.DataFrame({'epoch': range(30), 't_loss': t_losses, 'v_loss': v_losses, 't_acc': tn_acc, 'v_acc': vn_acc})\n",
        "\n",
        "df.to_csv(path_pd + save_name + '_loss')"
      ]
    },
    {
      "cell_type": "code",
      "source": [
        "#using the best model \n",
        "model = torch.load(path_model + save_name + '_acc.pth', map_location=device)"
      ],
      "metadata": {
        "id": "T_asCEHLcN67"
      },
      "execution_count": 13,
      "outputs": []
    },
    {
      "cell_type": "code",
      "execution_count": null,
      "metadata": {
        "id": "tNk_ubI9Zybf"
      },
      "outputs": [],
      "source": [
        "#prediction on test/saving pred.\n",
        "true_labels = []\n",
        "preds       = []\n",
        "model.eval()\n",
        "with torch.no_grad():\n",
        "  for images, labels in test_loader:\n",
        "    \n",
        "    images = images.to(device)\n",
        "    labels = labels.to(device)\n",
        "    logits = model(images)    \n",
        "      \n",
        "    curr_preds = torch.argmax(F.softmax(logits, dim=-1), dim=-1)\n",
        "    true_labels.extend(labels.view(-1).tolist())\n",
        "    preds.extend(curr_preds.view(-1).tolist())\n",
        "print('{}classification report'.format(classification_report(true_labels, preds)))\n",
        "report = classification_report(true_labels, preds, output_dict=True)\n",
        "df = pd.DataFrame(report).transpose()\n",
        "df.to_csv(path_pd + save_name + '_report')"
      ]
    },
    {
      "cell_type": "code",
      "execution_count": null,
      "metadata": {
        "id": "WcjNLPasg2dd"
      },
      "outputs": [],
      "source": [
        "def imshow(inp, title=None):\n",
        "   #imshow for tensor\n",
        "    inp = inp.numpy().transpose((1, 2, 0))\n",
        "    mean = np.array([0.485, 0.456, 0.406])\n",
        "    std = np.array([0.229, 0.224, 0.225])\n",
        "    inp = std * inp + mean\n",
        "    inp = np.clip(inp, 0, 1)\n",
        "    plt.figure(figsize=(3,3))\n",
        "    plt.imshow(inp)\n",
        "    if title is not None:\n",
        "        plt.title(title)\n",
        "    plt.pause(0.001)"
      ]
    },
    {
      "cell_type": "code",
      "execution_count": null,
      "metadata": {
        "id": "Z47VV6juhFoB"
      },
      "outputs": [],
      "source": [
        "#function for qualitative test\n",
        "def visualize_model(model, num_images=4):\n",
        "    was_training = model.training\n",
        "    model.eval()\n",
        "    images_so_far = 0\n",
        "    fig = plt.figure()\n",
        "\n",
        "    with torch.no_grad():\n",
        "        for i, (inputs, labels) in enumerate(test_loader):\n",
        "            inputs = inputs.to(device)\n",
        "            labels = labels.to(device)\n",
        "\n",
        "            outputs = model(inputs)\n",
        "            _, preds = torch.max(outputs, 1)\n",
        "\n",
        "            for j in range(inputs.size()[0]):\n",
        "                if classes[preds[j]] == classes[labels[j]]:\n",
        "                  images_so_far += 1\n",
        "                  ax = plt.subplot(num_images//2, 2, images_so_far)\n",
        "                  ax.axis('off')\n",
        "                  ax.set_title(f'predicted: {classes[preds[j]]}\\nlabel: {classes[labels[j]]}')\n",
        "                  imshow(inputs.cpu().data[j].permute(0,2,1))\n",
        "                else: continue\n",
        "\n",
        "                if images_so_far == num_images:\n",
        "                    model.train(mode=was_training)\n",
        "                    return\n",
        "        model.train(mode=was_training)\n"
      ]
    },
    {
      "cell_type": "code",
      "execution_count": null,
      "metadata": {
        "id": "m8WRS6EthLfv"
      },
      "outputs": [],
      "source": [
        "visualize_model(model)"
      ]
    }
  ],
  "metadata": {
    "accelerator": "GPU",
    "colab": {
      "background_execution": "on",
      "collapsed_sections": [],
      "provenance": []
    },
    "gpuClass": "standard",
    "kernelspec": {
      "display_name": "Python 3",
      "name": "python3"
    },
    "language_info": {
      "name": "python"
    }
  },
  "nbformat": 4,
  "nbformat_minor": 0
}